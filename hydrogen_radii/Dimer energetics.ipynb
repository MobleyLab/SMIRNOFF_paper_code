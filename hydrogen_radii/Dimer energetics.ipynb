{
 "cells": [
  {
   "cell_type": "markdown",
   "metadata": {},
   "source": [
    "# Dimer energies for molecules with and without LJ parameters on polar hydrogens\n",
    "\n",
    "In this notebook we intend to compare dimer energies (at varying separations), and potentially forces, for simple hydroxyl-containing molecules with and without LJ parameters on the polar hydrogens. Our goal is to reproduce the \"singularity\" type effect seen in simulations of such molecules wherein simulations without such parameters crash.\n",
    "\n",
    "Here we will look initially at dimers of neutral acetic acid and see if we can reproduce the problem.\n",
    "\n",
    "## Start by loading a reference force field without such LJ parameters, then creating a modified version of it which has such LJ parameters\n",
    "We use our smirnoff99Frosst force field and create a derivative one with this additional parameter.\n",
    "\n",
    "Current draft hydrogen LJ parameters come from the `hydrogen_radii.ipynb` file also present in this directory."
   ]
  },
  {
   "cell_type": "code",
   "execution_count": 1,
   "metadata": {},
   "outputs": [],
   "source": [
    "from openforcefield.typing.engines.smirnoff import *\n",
    "import copy\n",
    "from simtk import unit\n",
    "import oenotebook as oenb\n",
    "\n",
    "#What new parameter values will we use?\n",
    "hydrogen_epsilon = 0.0000527*unit.kilocalorie_per_mole #Additional order of magnitude lower\n",
    "hydrogen_rminhalf = 0.3*unit.angstrom\n",
    "\n",
    "\n",
    "# Load original forcefield\n",
    "old_forcefield = ForceField('forcefield/smirnoff99frosst.ffxml')\n",
    "\n",
    "# Make a copy\n",
    "new_forcefield = copy.deepcopy(old_forcefield)\n",
    "\n",
    "# Retrieve old parameters in question\n",
    "old_params = old_forcefield.getParameter(smirks = '[#1:1]-[#8]')\n",
    "new_params = copy.copy(old_params)\n",
    "\n",
    "# Set new parameters\n",
    "new_params['epsilon'] = str(hydrogen_epsilon/unit.kilocalorie_per_mole)\n",
    "new_params['rmin_half'] = str(hydrogen_rminhalf/unit.angstrom)\n",
    "new_forcefield.setParameter( new_params, smirks = '[#1:1]-[#8]')\n",
    "\n",
    "# Write out new forcefield to XML\n",
    "new_forcefield.writeFile('hydrogen_radii.ffxml')"
   ]
  },
  {
   "cell_type": "markdown",
   "metadata": {},
   "source": [
    "## Next, generate a possible starting structure for acetic acid dimer and visualize result\n",
    "\n",
    "Requires OpenEye toolkits and [`oeommtools`](https://github.com/oess/oeommtools)"
   ]
  },
  {
   "cell_type": "code",
   "execution_count": 2,
   "metadata": {},
   "outputs": [
    {
     "name": "stderr",
     "output_type": "stream",
     "text": [
      "/Users/dmobley/anaconda3/lib/python3.6/site-packages/pandas/io/parsers.py:2138: FutureWarning: split() requires a non-empty pattern match.\n",
      "  yield pat.split(line.strip())\n",
      "/Users/dmobley/anaconda3/lib/python3.6/site-packages/pandas/io/parsers.py:2140: FutureWarning: split() requires a non-empty pattern match.\n",
      "  yield pat.split(line.strip())\n"
     ]
    },
    {
     "data": {
      "application/vnd.jupyter.widget-view+json": {
       "model_id": "0a5a73e4a26e4d61befd82b085f9fa7a",
       "version_major": 2,
       "version_minor": 0
      },
      "text/html": [
       "<p>Failed to display Jupyter Widget of type <code>NGLWidget</code>.</p>\n",
       "<p>\n",
       "  If you're reading this message in the Jupyter Notebook or JupyterLab Notebook, it may mean\n",
       "  that the widgets JavaScript is still loading. If this message persists, it\n",
       "  likely means that the widgets JavaScript library is either not installed or\n",
       "  not enabled. See the <a href=\"https://ipywidgets.readthedocs.io/en/stable/user_install.html\">Jupyter\n",
       "  Widgets Documentation</a> for setup instructions.\n",
       "</p>\n",
       "<p>\n",
       "  If you're reading this message in another frontend (for example, a static\n",
       "  rendering on GitHub or <a href=\"https://nbviewer.jupyter.org/\">NBViewer</a>),\n",
       "  it may mean that your frontend doesn't currently support widgets.\n",
       "</p>\n"
      ],
      "text/plain": [
       "NGLWidget()"
      ]
     },
     "metadata": {},
     "output_type": "display_data"
    }
   ],
   "source": [
    "## Next, generate a possible starting structure for acetic acid dimer\n",
    "from openeye.oechem import *\n",
    "from openeye.oeomega import *\n",
    "from openeye.oeiupac import *\n",
    "\n",
    "# Output data directory\n",
    "import os\n",
    "datadir = 'dimer_data'\n",
    "if not os.path.isdir(datadir): os.mkdir(datadir)\n",
    "\n",
    "### Generate OEMol for acetic acid, save an instance of the monomer\n",
    "monomer = OEMol()\n",
    "OEParseIUPACName(monomer, 'acetic acid')\n",
    "OEAddExplicitHydrogens(monomer)\n",
    "OETriposAtomNames(monomer)\n",
    "omega = OEOmega()\n",
    "omega.SetMaxConfs(1)\n",
    "omega(monomer)\n",
    "\n",
    "### Create a second acetic acid and translate\n",
    "mol = OEMol(monomer)\n",
    "#Move one of the molecules over so they're not on top of each other initially - translate by 6A (guess)\n",
    "coords = mol.GetCoords() # Dictionary by atom, where each set is a tuple in units of angstroms\n",
    "transldist = -4\n",
    "for atidx in coords:\n",
    "    coords[atidx] = (coords[atidx][0]+transldist, coords[atidx][1], coords[atidx][2]+transldist)\n",
    "mol.SetCoords(coords)\n",
    "\n",
    "### Add two monomers into a combined acetic acid\n",
    "dimer = OEMol(monomer)\n",
    "amap, bmap = OEAddMols(dimer, mol)\n",
    "\n",
    "### Write out results and see whether this is an effective placement\n",
    "ofile = oemolostream( os.path.join( datadir, 'dimer_separated.mol2'))\n",
    "OEWriteMolecule(ofile, dimer)\n",
    "ofile.close()\n",
    "# Or visualize inline with nglview!\n",
    "import nglview\n",
    "import mdtraj\n",
    "traj = mdtraj.load(os.path.join( datadir, 'dimer_separated.mol2'))\n",
    "view = nglview.show_mdtraj(traj)\n",
    "view\n"
   ]
  },
  {
   "cell_type": "code",
   "execution_count": 3,
   "metadata": {},
   "outputs": [
    {
     "data": {
      "image/png": "[encoded data removed]",
      "text/plain": [
       "<IPython.core.display.Image object>"
      ]
     },
     "execution_count": 3,
     "metadata": {},
     "output_type": "execute_result"
    }
   ],
   "source": [
    "oenb.draw_mol(monomer)"
   ]
  },
  {
   "cell_type": "markdown",
   "metadata": {},
   "source": [
    "## Energy minimize our dimer and visualize the result\n",
    "\n",
    "It comes together in a halfway sensible orientation, but does not dimerize as I would expect (can't get to that minima from starting point)\n"
   ]
  },
  {
   "cell_type": "code",
   "execution_count": 4,
   "metadata": {},
   "outputs": [
    {
     "name": "stdout",
     "output_type": "stream",
     "text": [
      "8 16\n",
      "Warning: OEAssignPartialCharges has been deprecated please use OEAssignCharges instead!\n",
      "Energy before minimization (kcal/mol): -71\n",
      "Energy after minimization (kcal/mol): -88\n"
     ]
    },
    {
     "data": {
      "application/vnd.jupyter.widget-view+json": {
       "model_id": "d6442ca7024d4e13a0b5a94e7cfa8015",
       "version_major": 2,
       "version_minor": 0
      },
      "text/html": [
       "<p>Failed to display Jupyter Widget of type <code>NGLWidget</code>.</p>\n",
       "<p>\n",
       "  If you're reading this message in the Jupyter Notebook or JupyterLab Notebook, it may mean\n",
       "  that the widgets JavaScript is still loading. If this message persists, it\n",
       "  likely means that the widgets JavaScript library is either not installed or\n",
       "  not enabled. See the <a href=\"https://ipywidgets.readthedocs.io/en/stable/user_install.html\">Jupyter\n",
       "  Widgets Documentation</a> for setup instructions.\n",
       "</p>\n",
       "<p>\n",
       "  If you're reading this message in another frontend (for example, a static\n",
       "  rendering on GitHub or <a href=\"https://nbviewer.jupyter.org/\">NBViewer</a>),\n",
       "  it may mean that your frontend doesn't currently support widgets.\n",
       "</p>\n"
      ],
      "text/plain": [
       "NGLWidget()"
      ]
     },
     "metadata": {},
     "output_type": "display_data"
    }
   ],
   "source": [
    "### Use oeommtools to generate a Topology\n",
    "import oeommtools.utils\n",
    "topology, coordinates = oeommtools.utils.oemol_to_openmmTop(dimer)\n",
    "print(monomer.NumAtoms(), topology.getNumAtoms())\n",
    "\n",
    "### Assign \"normal\" FF parameters\n",
    "old_system = old_forcefield.createSystem(topology, [mol], chargeMethod='OECharges_AM1BCCSym')\n",
    "\n",
    "### Energy minimize\n",
    "# Even though we're just going to minimize, we still have to set up an integrator, since a Simulation needs one\n",
    "integrator = openmm.VerletIntegrator(2.0*unit.femtoseconds)\n",
    "# Prep the Simulation using the parameterized system, the integrator, and the topology\n",
    "simulation = app.Simulation(topology, old_system, integrator)\n",
    "# Copy in the positions\n",
    "simulation.context.setPositions( coordinates ) \n",
    "\n",
    "# Get initial state and energy; print\n",
    "state = simulation.context.getState(getEnergy = True)\n",
    "energy = state.getPotentialEnergy() / unit.kilocalories_per_mole\n",
    "print(\"Energy before minimization (kcal/mol): %.2g\" % energy)\n",
    "\n",
    "# Minimize, get final state and energy and print\n",
    "simulation.minimizeEnergy()\n",
    "state = simulation.context.getState(getEnergy=True, getPositions=True)\n",
    "energy = state.getPotentialEnergy() / unit.kilocalories_per_mole\n",
    "print(\"Energy after minimization (kcal/mol): %.2g\" % energy)\n",
    "newpositions = state.getPositions()\n",
    "\n",
    "### Vizualize result\n",
    "traj.xyz[0] = np.array(newpositions/unit.nanometer)\n",
    "view = nglview.show_mdtraj(traj)\n",
    "view"
   ]
  },
  {
   "cell_type": "code",
   "execution_count": 5,
   "metadata": {},
   "outputs": [],
   "source": [
    "## Load an alternate starting structure of the dimer from disk\n",
    "ifile = oemolistream( os.path.join( datadir, 'paired_dimer.mol2'))\n",
    "dimer = OEMol()\n",
    "OEReadMolecule(ifile, dimer)\n",
    "ifile.close()"
   ]
  },
  {
   "cell_type": "markdown",
   "metadata": {},
   "source": [
    "## Run MD and see what happens\n",
    "\n",
    "Verdict: If started from the initial offset placement above, it wobbles around but doesn't do anything exciting and doesn't form the dimer one might expect (probably too hard to rotate the hydroxyl torsions from anti to syn).\n",
    "\n",
    "If started from the dimer, it wobbles around as a dimer but doesn't crash.\n"
   ]
  },
  {
   "cell_type": "code",
   "execution_count": 6,
   "metadata": {},
   "outputs": [
    {
     "name": "stdout",
     "output_type": "stream",
     "text": [
      "Starting simulation\n",
      "Elapsed time 1.35 seconds\n",
      "Done!\n"
     ]
    },
    {
     "name": "stderr",
     "output_type": "stream",
     "text": [
      "/Users/dmobley/anaconda3/lib/python3.6/site-packages/pandas/io/parsers.py:2138: FutureWarning: split() requires a non-empty pattern match.\n",
      "  yield pat.split(line.strip())\n",
      "/Users/dmobley/anaconda3/lib/python3.6/site-packages/pandas/io/parsers.py:2140: FutureWarning: split() requires a non-empty pattern match.\n",
      "  yield pat.split(line.strip())\n"
     ]
    },
    {
     "data": {
      "application/vnd.jupyter.widget-view+json": {
       "model_id": "a0113558cf834feb862fb57d72dae5b3",
       "version_major": 2,
       "version_minor": 0
      },
      "text/html": [
       "<p>Failed to display Jupyter Widget of type <code>NGLWidget</code>.</p>\n",
       "<p>\n",
       "  If you're reading this message in the Jupyter Notebook or JupyterLab Notebook, it may mean\n",
       "  that the widgets JavaScript is still loading. If this message persists, it\n",
       "  likely means that the widgets JavaScript library is either not installed or\n",
       "  not enabled. See the <a href=\"https://ipywidgets.readthedocs.io/en/stable/user_install.html\">Jupyter\n",
       "  Widgets Documentation</a> for setup instructions.\n",
       "</p>\n",
       "<p>\n",
       "  If you're reading this message in another frontend (for example, a static\n",
       "  rendering on GitHub or <a href=\"https://nbviewer.jupyter.org/\">NBViewer</a>),\n",
       "  it may mean that your frontend doesn't currently support widgets.\n",
       "</p>\n"
      ],
      "text/plain": [
       "NGLWidget(count=100)"
      ]
     },
     "metadata": {},
     "output_type": "display_data"
    }
   ],
   "source": [
    "# Run MD and see what happens\n",
    "from mdtraj.reporters import NetCDFReporter\n",
    "integrator = openmm.LangevinIntegrator(300*unit.kelvin, 1./unit.picosecond, 2.*unit.femtoseconds)\n",
    "\n",
    "# Prep Simulation\n",
    "simulation = app.Simulation(topology, old_system, integrator)\n",
    "# Copy in minimized positions\n",
    "simulation.context.setPositions(newpositions)\n",
    "\n",
    "# Initialize velocities to correct temperature\n",
    "simulation.context.setVelocitiesToTemperature(300*unit.kelvin)\n",
    "# Set up to write trajectory file to NetCDF file in data directory every 100 frames\n",
    "netcdf_reporter = NetCDFReporter(os.path.join(datadir, 'trajectory.nc'), 100) #Store every 100 frames\n",
    "# Initialize reporters, including a CSV file to store certain stats every 100 frames\n",
    "simulation.reporters.append(netcdf_reporter)\n",
    "simulation.reporters.append(app.StateDataReporter(os.path.join(datadir, 'data.csv'), 100, step=True, potentialEnergy=True, temperature=True, density=True))\n",
    "\n",
    "# Run the simulation and print start info; store timing\n",
    "print(\"Starting simulation\")\n",
    "start = time.clock()\n",
    "simulation.step(10000) #1000 steps of dynamics\n",
    "end = time.clock()\n",
    "\n",
    "# Print elapsed time info, finalize trajectory file\n",
    "print(\"Elapsed time %.2f seconds\" % (end-start))\n",
    "netcdf_reporter.close()\n",
    "print(\"Done!\")\n",
    "\n",
    "# Load stored trajectory using MDTraj; the trajectory doesn't contain chemistry info so we also load a PDB\n",
    "traj= mdtraj.load(os.path.join(datadir, 'trajectory.nc'), top=os.path.join( datadir, 'dimer_separated.mol2'))\n",
    "\n",
    "\n",
    "# View the trajectory\n",
    "view = nglview.show_mdtraj(traj)\n",
    "view"
   ]
  },
  {
   "cell_type": "markdown",
   "metadata": {},
   "source": [
    "# We want to probe the energy landscape as a function of dimer separation\n",
    "\n",
    "Since normal MD doesn't appear to be probing the landscape that well, let's go ahead and just pull the dimer together directly to see what happens to the energy as a function of separation if we pull on it really hard.\n",
    "\n",
    "## Bookkeeping: Figure out which atoms to pull together\n",
    "\n",
    "We'll want to pull the hydroxyl hydrogen in one molecule towards the double-bonded oxygen in the other molecule.\n",
    "Perhaps, to get better dimer structures, we'll pull both at the same time.  Let's go ahead and figure out what indices these atoms are."
   ]
  },
  {
   "cell_type": "code",
   "execution_count": 7,
   "metadata": {},
   "outputs": [
    {
     "name": "stdout",
     "output_type": "stream",
     "text": [
      "[2, 10] [7, 15]\n"
     ]
    }
   ],
   "source": [
    "# First loop over topology and identify atoms we want to restrain\n",
    "# Let's grab the oxygen with only one neighbor in the first molecule and the polar hydrogen in the second, and the\n",
    "# same for the other pair\n",
    "hydrogen_idxs = []\n",
    "oxygen_idxs = []\n",
    "for idx, atom in enumerate(dimer.GetAtoms()):\n",
    "    # Check if this is the oxygen we want\n",
    "    if atom.IsOxygen():\n",
    "        for bond in atom.GetBonds():\n",
    "            if bond.GetOrder()==2 and bond.GetNbr(atom).IsCarbon():\n",
    "                oxygen_idxs.append( idx )\n",
    "                continue\n",
    "                \n",
    "    # Check if this is the hydrogen we want\n",
    "    if atom.IsHydrogen():\n",
    "        for bond in atom.GetBonds():\n",
    "            if bond.GetNbr(atom).IsOxygen():\n",
    "                hydrogen_idxs.append( idx )\n",
    "                continue\n",
    "print(oxygen_idxs, hydrogen_idxs)"
   ]
  },
  {
   "cell_type": "markdown",
   "metadata": {},
   "source": [
    "## Next go ahead and energy minimize with restraints (\"CustomBondForce\") of selected strength\n",
    "\n",
    "This will allow us to pull them together considerably as we vary the restraint strength.\n",
    "\n",
    "Note: To get a good structure of the dimer, I energy minimized (via the code below) using a force constant of 10000 between both pairs of atoms and then turned off the restraints, energy minimized again, and dumped the resulting structure via\n",
    "```python\n",
    "# Dump dimer\n",
    "coords = dimer.GetCoords() # Dictionary by atom, where each set is a tuple in units of angstroms\n",
    "for atidx in coords:\n",
    "    coords[atidx] = (newpositions[atidx][0]/unit.angstroms, newpositions[atidx][1]/unit.angstroms, newpositions[atidx][2]/unit.angstroms)\n",
    "dimer.SetCoords(coords)\n",
    "ofile = oemolostream( os.path.join( datadir, 'paired_dimer.mol2'))\n",
    "OEWriteMolecule(ofile, dimer)\n",
    "ofile.close()\n",
    "```\n",
    "This allows us to start the restraining procedure below from a dimerized structure and just monitor the energy/separation as we vary the restraint strength.\n",
    "\n"
   ]
  },
  {
   "cell_type": "code",
   "execution_count": 8,
   "metadata": {},
   "outputs": [
    {
     "name": "stdout",
     "output_type": "stream",
     "text": [
      "Energy before minimization (kcal/mol): -24\n",
      "Energy after minimization (kcal/mol): -85\n"
     ]
    },
    {
     "data": {
      "application/vnd.jupyter.widget-view+json": {
       "model_id": "3b888e3ff68a4d0dae1015026dfa4d33",
       "version_major": 2,
       "version_minor": 0
      },
      "text/html": [
       "<p>Failed to display Jupyter Widget of type <code>NGLWidget</code>.</p>\n",
       "<p>\n",
       "  If you're reading this message in the Jupyter Notebook or JupyterLab Notebook, it may mean\n",
       "  that the widgets JavaScript is still loading. If this message persists, it\n",
       "  likely means that the widgets JavaScript library is either not installed or\n",
       "  not enabled. See the <a href=\"https://ipywidgets.readthedocs.io/en/stable/user_install.html\">Jupyter\n",
       "  Widgets Documentation</a> for setup instructions.\n",
       "</p>\n",
       "<p>\n",
       "  If you're reading this message in another frontend (for example, a static\n",
       "  rendering on GitHub or <a href=\"https://nbviewer.jupyter.org/\">NBViewer</a>),\n",
       "  it may mean that your frontend doesn't currently support widgets.\n",
       "</p>\n"
      ],
      "text/plain": [
       "NGLWidget(count=100)"
      ]
     },
     "metadata": {},
     "output_type": "display_data"
    }
   ],
   "source": [
    "def initialize_restrained_simulation( topology, coordinates, mol, force_constants, oxygen_idxs, hydrogen_idxs, forcefield):\n",
    "    ## Initialize a `simulation` with the specified topology, coordinates, component molecule\n",
    "    # and restraints with the specified force constants (list) between the appropriate pairs of oxygen_idxs and hydrogen_idxs\n",
    "    # Uses provided forcefield (SMIRNOFF ForceField object)\n",
    "    \n",
    "    # Returns bond1, bond2, system, simulation: The indices of the two bonds added, as well as the initialized `simulation`\n",
    "    \n",
    "    # Create system again, to allow doing this repeatedly\n",
    "    system = forcefield.createSystem(topology, [mol], chargeMethod='OECharges_AM1BCCSym')\n",
    "\n",
    "\n",
    "    #Following http://www.maccallumlab.org/news/2015/1/23/testing\n",
    "    flat_bottom_force = openmm.CustomBondForce( 'step(r-r0) * (k/2) * (r-r0)^2')\n",
    "    flat_bottom_force.addPerBondParameter('r0')\n",
    "    flat_bottom_force.addPerBondParameter('k')\n",
    "    system.addForce(flat_bottom_force)\n",
    "\n",
    "    # Set up custom bonds with specified force constant\n",
    "    r0 = 0.\n",
    "    bond1 = flat_bottom_force.addBond( oxygen_idxs[0], hydrogen_idxs[1], [r0, force_constants[0]])\n",
    "    bond2 = flat_bottom_force.addBond( oxygen_idxs[1], hydrogen_idxs[0], [r0, force_constants[1]])\n",
    "\n",
    "\n",
    "    # Even though we're just going to minimize, we still have to set up an integrator, since a Simulation needs one\n",
    "    integrator = openmm.VerletIntegrator(2.0*unit.femtoseconds)\n",
    "    # Prep the Simulation using the parameterized system, the integrator, and the topology\n",
    "    simulation = app.Simulation(topology, system, integrator)\n",
    "    simulation.context.setPositions( coordinates )\n",
    "\n",
    "    return bond1, bond2, system, simulation\n",
    "\n",
    "#Apply\n",
    "bond1, bond2, system, simulation = initialize_restrained_simulation( topology, newpositions, mol, [1000,0], oxygen_idxs, hydrogen_idxs, old_forcefield)\n",
    "\n",
    "# Get initial state and energy; print\n",
    "state = simulation.context.getState(getEnergy = True)\n",
    "energy = state.getPotentialEnergy() / unit.kilocalories_per_mole\n",
    "print(\"Energy before minimization (kcal/mol): %.2g\" % energy)\n",
    "\n",
    "# Minimize, get final state and energy and print\n",
    "simulation.minimizeEnergy()\n",
    "state = simulation.context.getState(getEnergy=True, getPositions=True)\n",
    "energy = state.getPotentialEnergy() / unit.kilocalories_per_mole\n",
    "print(\"Energy after minimization (kcal/mol): %.2g\" % energy)\n",
    "newpositions = state.getPositions()\n",
    "\n",
    "### Vizualize result\n",
    "traj.xyz[0] = np.array(newpositions/unit.nanometer)\n",
    "view = nglview.show_mdtraj(traj)\n",
    "view"
   ]
  },
  {
   "cell_type": "markdown",
   "metadata": {},
   "source": [
    "## Probe energy landscape as a function of dimer separation\n",
    "\n",
    "Here we'll look at the energy landscape as a function of dimer separation by varying the restraint strength and minimizing repeatedly at different restraint strengths. To ensure we aren't deforming the system we'll minimize with only one restraint (between one hydrogen and one oxygen). Our procedure will be, for each minimization:\n",
    "- Start with a clean structure of a minimized dimer (minimized with no restraints)\n",
    "- Add specified restraint\n",
    "- Energy minimize\n",
    "- Remove restraint and re-evaluate the energy (without re-minimizing) to get the energy without the restraint\n",
    "- Store H-O separation and energy\n",
    "\n",
    "### Define a utility function to return energy of a simulation without restraints\n",
    "\n",
    "We need to be able to turn off the restraints and get the energy; define a utility function to do that"
   ]
  },
  {
   "cell_type": "code",
   "execution_count": 9,
   "metadata": {},
   "outputs": [],
   "source": [
    "def energy_without_restraints( system, topology, coordinates, bond_idxs, oxygen_idxs, hydrogen_idxs):\n",
    "    for force in system.getForces():\n",
    "        if isinstance(force, openmm.CustomBondForce):\n",
    "            force.setBondParameters( bond_idxs[0], oxygen_idxs[0], hydrogen_idxs[1], [0,0])\n",
    "            force.setBondParameters( bond_idxs[1], oxygen_idxs[1], hydrogen_idxs[0], [0,0])\n",
    "            # Evaluate energy\n",
    "            integrator = openmm.VerletIntegrator(2.0*unit.femtoseconds)\n",
    "            simulation = app.Simulation(topology, system, integrator)\n",
    "            simulation.context.setPositions( newpositions )\n",
    "            state = simulation.context.getState(getEnergy = True)\n",
    "            energy = state.getPotentialEnergy() / unit.kilocalories_per_mole\n",
    "\n",
    "            return energy"
   ]
  },
  {
   "cell_type": "markdown",
   "metadata": {},
   "source": [
    "### Go ahead and do analysis of energy as a function of separation"
   ]
  },
  {
   "cell_type": "code",
   "execution_count": 10,
   "metadata": {},
   "outputs": [
    {
     "name": "stdout",
     "output_type": "stream",
     "text": [
      "Energy after minimization (kcal/mol): -88\n",
      "Energy without restraints (kcal/mol): -88\n",
      "Energy after minimization (kcal/mol): -88\n",
      "Energy without restraints (kcal/mol): -88\n",
      "Energy after minimization (kcal/mol): -88\n",
      "Energy without restraints (kcal/mol): -88\n",
      "Energy after minimization (kcal/mol): -88\n",
      "Energy without restraints (kcal/mol): -88\n",
      "Energy after minimization (kcal/mol): -88\n",
      "Energy without restraints (kcal/mol): -88\n",
      "Energy after minimization (kcal/mol): -88\n",
      "Energy without restraints (kcal/mol): -88\n",
      "Energy after minimization (kcal/mol): -88\n",
      "Energy without restraints (kcal/mol): -88\n",
      "Energy after minimization (kcal/mol): -88\n",
      "Energy without restraints (kcal/mol): -88\n",
      "Energy after minimization (kcal/mol): -88\n",
      "Energy without restraints (kcal/mol): -88\n",
      "Energy after minimization (kcal/mol): -87\n",
      "Energy without restraints (kcal/mol): -87\n",
      "Energy after minimization (kcal/mol): -85\n",
      "Energy without restraints (kcal/mol): -85\n",
      "Energy after minimization (kcal/mol): -82\n",
      "Energy without restraints (kcal/mol): -82\n",
      "Energy after minimization (kcal/mol): -76\n",
      "Energy without restraints (kcal/mol): -76\n",
      "Energy after minimization (kcal/mol): -65\n",
      "Energy without restraints (kcal/mol): -65\n",
      "Energy after minimization (kcal/mol): -46\n",
      "Energy without restraints (kcal/mol): -46\n",
      "Energy after minimization (kcal/mol): -15\n",
      "Energy without restraints (kcal/mol): -15\n",
      "Energy after minimization (kcal/mol): 33\n",
      "Energy without restraints (kcal/mol): 33\n",
      "Energy after minimization (kcal/mol): 1e+02\n",
      "Energy without restraints (kcal/mol): 1e+02\n",
      "Energy after minimization (kcal/mol): 1.8e+02\n",
      "Energy without restraints (kcal/mol): 1.8e+02\n",
      "Energy after minimization (kcal/mol): 1.3e+03\n",
      "Energy without restraints (kcal/mol): 1.3e+03\n",
      "Energy after minimization (kcal/mol): 2.8e+02\n",
      "Energy without restraints (kcal/mol): 2.8e+02\n",
      "Energy after minimization (kcal/mol): -6.6e+02\n",
      "Energy without restraints (kcal/mol): -6.6e+02\n",
      "Energy after minimization (kcal/mol): 7.5e+02\n",
      "Energy without restraints (kcal/mol): 7.5e+02\n",
      "Energy after minimization (kcal/mol): -2.3e+04\n",
      "Energy without restraints (kcal/mol): -2.3e+04\n",
      "Energy after minimization (kcal/mol): -7.2e+02\n",
      "Energy without restraints (kcal/mol): -7.2e+02\n"
     ]
    }
   ],
   "source": [
    "# Pick what restraint values to use\n",
    "restraint_values = [2**i for i in range(0, 25)]\n",
    "#restraint_values = [10**i for i in range(2, 5)]\n",
    "#print(restraint_values)\n",
    "\n",
    "# Load clean structure of a minimized dimer (minimized with no restraints)\n",
    "ifile = oemolistream( os.path.join( datadir, 'paired_dimer.mol2'))\n",
    "dimer = OEMol()\n",
    "OEReadMolecule(ifile, dimer)\n",
    "ifile.close()\n",
    "import openforcefield.utils\n",
    "dimer_coordinates = openforcefield.utils.extractPositionsFromOEMol(dimer)\n",
    "\n",
    "# Set up storage for data\n",
    "separations = []\n",
    "final_energies = []\n",
    "\n",
    "# Loop over restraint values and do our analysis\n",
    "for rval in restraint_values:\n",
    "    # Add specified restraint\n",
    "    bond1, bond2, system, simulation = initialize_restrained_simulation( topology, dimer_coordinates, mol, [rval,0],\\\n",
    "                                                                oxygen_idxs, hydrogen_idxs, old_forcefield)\n",
    "\n",
    "    # Energy minimize\n",
    "    simulation.minimizeEnergy()\n",
    "    state = simulation.context.getState(getEnergy=True, getPositions=True)\n",
    "    energy = state.getPotentialEnergy() / unit.kilocalories_per_mole\n",
    "    print(\"Energy after minimization (kcal/mol): %.2g\" % energy)\n",
    "    newpositions = state.getPositions()\n",
    "\n",
    "    # Remove restraint and re-evaluate the energy (without re-minimizing) to get the energy without the restraint\n",
    "    newenergy = energy_without_restraints( system, topology, newpositions, [bond1, bond2], oxygen_idxs, hydrogen_idxs)\n",
    "    print(\"Energy without restraints (kcal/mol): %.2g\" % energy)\n",
    "    \n",
    "    # Compute H-O separation\n",
    "    ox_pos = newpositions[oxygen_idxs[0]]\n",
    "    hyd_pos = newpositions[hydrogen_idxs[1]]\n",
    "    diff = ox_pos - hyd_pos\n",
    "    distance = np.sqrt(np.dot(diff,diff))/unit.angstroms\n",
    "    \n",
    "    # Store H-O separation and energy\n",
    "    final_energies.append( newenergy )\n",
    "    separations.append(distance)\n"
   ]
  },
  {
   "cell_type": "code",
   "execution_count": 11,
   "metadata": {},
   "outputs": [
    {
     "data": {
      "image/png": "[encoded data removed]",
      "text/plain": [
       "<matplotlib.figure.Figure at 0x1219c80b8>"
      ]
     },
     "metadata": {},
     "output_type": "display_data"
    }
   ],
   "source": [
    "# Graph results\n",
    "% matplotlib inline\n",
    "from pylab import *\n",
    "\n",
    "sortres = sorted(zip(separations,final_energies))\n",
    "separations = [elem[0] for elem in sortres]\n",
    "final_energies = [elem[1] for elem in sortres]\n",
    "\n",
    "figure()\n",
    "plot( separations, final_energies, 'bo-')\n",
    "xlabel('Separation distance between hydroxyl hydrogen and receiving oxygen (angstroms)')\n",
    "ylabel('Energy (kcal/mol)')\n",
    "title(\"Without hydroxyl radii\")\n",
    "ylim(-2000, 1.4e3)\n",
    "show()"
   ]
  },
  {
   "cell_type": "markdown",
   "metadata": {},
   "source": [
    "### Do the same for our new, modified forcefield"
   ]
  },
  {
   "cell_type": "code",
   "execution_count": 12,
   "metadata": {},
   "outputs": [
    {
     "name": "stdout",
     "output_type": "stream",
     "text": [
      "Energy after minimization (kcal/mol): -88\n",
      "Energy without restraints (kcal/mol): -88\n",
      "Energy after minimization (kcal/mol): -88\n",
      "Energy without restraints (kcal/mol): -88\n",
      "Energy after minimization (kcal/mol): -88\n",
      "Energy without restraints (kcal/mol): -88\n",
      "Energy after minimization (kcal/mol): -88\n",
      "Energy without restraints (kcal/mol): -88\n",
      "Energy after minimization (kcal/mol): -88\n",
      "Energy without restraints (kcal/mol): -88\n",
      "Energy after minimization (kcal/mol): -88\n",
      "Energy without restraints (kcal/mol): -88\n",
      "Energy after minimization (kcal/mol): -88\n",
      "Energy without restraints (kcal/mol): -88\n",
      "Energy after minimization (kcal/mol): -88\n",
      "Energy without restraints (kcal/mol): -88\n",
      "Energy after minimization (kcal/mol): -88\n",
      "Energy without restraints (kcal/mol): -88\n",
      "Energy after minimization (kcal/mol): -87\n",
      "Energy without restraints (kcal/mol): -87\n",
      "Energy after minimization (kcal/mol): -85\n",
      "Energy without restraints (kcal/mol): -85\n",
      "Energy after minimization (kcal/mol): -82\n",
      "Energy without restraints (kcal/mol): -82\n",
      "Energy after minimization (kcal/mol): -76\n",
      "Energy without restraints (kcal/mol): -76\n",
      "Energy after minimization (kcal/mol): -65\n",
      "Energy without restraints (kcal/mol): -65\n",
      "Energy after minimization (kcal/mol): -46\n",
      "Energy without restraints (kcal/mol): -46\n",
      "Energy after minimization (kcal/mol): -14\n",
      "Energy without restraints (kcal/mol): -14\n",
      "Energy after minimization (kcal/mol): 38\n",
      "Energy without restraints (kcal/mol): 38\n",
      "Energy after minimization (kcal/mol): 1.2e+02\n",
      "Energy without restraints (kcal/mol): 1.2e+02\n",
      "Energy after minimization (kcal/mol): 2.7e+02\n",
      "Energy without restraints (kcal/mol): 2.7e+02\n",
      "Energy after minimization (kcal/mol): 5.1e+02\n",
      "Energy without restraints (kcal/mol): 5.1e+02\n",
      "Energy after minimization (kcal/mol): 9.5e+02\n",
      "Energy without restraints (kcal/mol): 9.5e+02\n",
      "Energy after minimization (kcal/mol): 1.7e+03\n",
      "Energy without restraints (kcal/mol): 1.7e+03\n",
      "Energy after minimization (kcal/mol): 3.2e+03\n",
      "Energy without restraints (kcal/mol): 3.2e+03\n"
     ]
    }
   ],
   "source": [
    "# Pick what restraint values to use\n",
    "restraint_values = [2**i for i in range(0, 23)]\n",
    "#restraint_values = [10**i for i in range(2, 5)]\n",
    "#print(restraint_values)\n",
    "\n",
    "# Load clean structure of a minimized dimer (minimized with no restraints)\n",
    "ifile = oemolistream( os.path.join( datadir, 'paired_dimer.mol2'))\n",
    "dimer = OEMol()\n",
    "OEReadMolecule(ifile, dimer)\n",
    "ifile.close()\n",
    "import openforcefield.utils\n",
    "dimer_coordinates = openforcefield.utils.extractPositionsFromOEMol(dimer)\n",
    "\n",
    "# Set up storage for data\n",
    "new_separations = []\n",
    "new_final_energies = []\n",
    "\n",
    "# Loop over restraint values and do our analysis\n",
    "for rval in restraint_values:\n",
    "    # Add specified restraint\n",
    "    bond1, bond2, system, simulation = initialize_restrained_simulation( topology, dimer_coordinates, mol, [rval,0],\\\n",
    "                                                                oxygen_idxs, hydrogen_idxs, new_forcefield)\n",
    "\n",
    "    # Energy minimize\n",
    "    simulation.minimizeEnergy()\n",
    "    state = simulation.context.getState(getEnergy=True, getPositions=True)\n",
    "    energy = state.getPotentialEnergy() / unit.kilocalories_per_mole\n",
    "    print(\"Energy after minimization (kcal/mol): %.2g\" % energy)\n",
    "    newpositions = state.getPositions()\n",
    "\n",
    "    # Remove restraint and re-evaluate the energy (without re-minimizing) to get the energy without the restraint\n",
    "    newenergy = energy_without_restraints( system, topology, newpositions, [bond1, bond2], oxygen_idxs, hydrogen_idxs)\n",
    "    print(\"Energy without restraints (kcal/mol): %.2g\" % energy)\n",
    "    \n",
    "    # Compute H-O separation\n",
    "    ox_pos = newpositions[oxygen_idxs[0]]\n",
    "    hyd_pos = newpositions[hydrogen_idxs[1]]\n",
    "    diff = ox_pos - hyd_pos\n",
    "    distance = np.sqrt(np.dot(diff,diff))/unit.angstroms\n",
    "    \n",
    "    # Store H-O separation and energy\n",
    "    new_final_energies.append( newenergy )\n",
    "    new_separations.append(distance)\n",
    "\n"
   ]
  },
  {
   "cell_type": "code",
   "execution_count": 14,
   "metadata": {},
   "outputs": [
    {
     "data": {
      "image/png": "[encoded data removed]",
      "text/plain": [
       "<matplotlib.figure.Figure at 0x125f90c50>"
      ]
     },
     "metadata": {},
     "output_type": "display_data"
    }
   ],
   "source": [
    "# Graph results\n",
    "% matplotlib inline\n",
    "from pylab import *\n",
    "\n",
    "figure()\n",
    "title(\"With hydroxyl radii\")\n",
    "plot( new_separations, new_final_energies, 'bo-')\n",
    "xlabel('Separation distance between hydroxyl hydrogen and receiving oxygen (angstroms)')\n",
    "ylabel('Energy (kcal/mol)')\n",
    "ylim(-100, 1000)\n",
    "show()"
   ]
  }
 ],
 "metadata": {
  "kernelspec": {
   "display_name": "Python 3",
   "language": "python",
   "name": "python3"
  },
  "language_info": {
   "codemirror_mode": {
    "name": "ipython",
    "version": 3
   },
   "file_extension": ".py",
   "mimetype": "text/x-python",
   "name": "python",
   "nbconvert_exporter": "python",
   "pygments_lexer": "ipython3",
   "version": "3.6.2"
  },
  "toc": {
   "nav_menu": {},
   "number_sections": true,
   "sideBar": true,
   "skip_h1_title": false,
   "toc_cell": false,
   "toc_position": {},
   "toc_section_display": "block",
   "toc_window_display": false
  }
 },
 "nbformat": 4,
 "nbformat_minor": 2
}
