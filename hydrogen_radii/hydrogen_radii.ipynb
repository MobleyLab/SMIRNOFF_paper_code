{
 "cells": [
  {
   "cell_type": "markdown",
   "metadata": {},
   "source": [
    "# Looking at hydroxyl hydrogen interactions\n",
    "(Author: David Mobley, UC Irvine)\n",
    "\n",
    "\n",
    "In this notebook, we look at LJ interactions involving polar hydrogens in smirnoff99Frosst. These initially have an LJ radius of zero, following GAFF/AMBER family force fields, but this causes crashes. Here we explore potentially adding very small LJ parameters to avoid crashes while not overly perturbing thermodynamics.\n",
    "\n",
    "To some extent, this follows the strategy used for the parm@Frosst type HX, which was all hydroxyl hydrogens EXCEPT those in water-like environments. That had an rmin_half of 0.6 (same as polar hydrogens on nitrogens) and an epsilon of 0.0157 (AMBER units). \n",
    "\n",
    "Here, Chris Bayly's suggestions were:\n",
    "* Make the rmin_half be half that of the amide nitrogen, so 0.3\n",
    "* \"Adjust the epsilon so there is no attraction (but no repulsion either) from outside the bonded oxygen's repulsive vdw radius.\"\n",
    "\n",
    "In smirnoff99Frosst, the relevant oxygen is ` <Atom smirks=\"[#8X2H1+0:1]\" epsilon=\"0.2104\" id=\"n20\" rmin_half=\"1.7210\"/>`\n",
    "\n",
    "Here we will graph LJ interactions involving a hydroxyl hydrogen for these parameters, marking the distance of the oxygen's LJ radius, and see what this suggests for an epsilon value.\n",
    "\n",
    "The HX-OH/HO-OH bond has a length of 0.96 angstroms.\n",
    "\n",
    "## Van der Waals parameters in AMBER\n",
    "\n",
    "It's a bit tricky to actually find the right vdW functional form in AMBER; after Googling I eventually found this expression: http://ambermd.org/vdwequation.pdf . We have values for $r_0 = (2)^\\frac{1}{6} \\sigma$. The relevant expression overall is:\n",
    "\\begin{equation}\n",
    "E_{VDW} = 4 \\epsilon \\left[ \\frac{1}{4} \\left(\\frac{r_0}{r}\\right)^{12} - \\frac{1}{2} \\left(\\frac{r_0}{r}\\right)^6 \\right]\n",
    "\\end{equation}\n",
    "\n",
    "## Now let's proceed to analyze/graph"
   ]
  },
  {
   "cell_type": "code",
   "execution_count": 16,
   "metadata": {},
   "outputs": [
    {
     "name": "stdout",
     "output_type": "stream",
     "text": [
      "1.5332366939195239 A\n",
      "0.5732366939195239 A 0.7610000000000001 A\n"
     ]
    },
    {
     "data": {
      "text/plain": [
       "Text(0,0.5,'Energy (kcal/mol)')"
      ]
     },
     "execution_count": 16,
     "metadata": {},
     "output_type": "execute_result"
    },
    {
     "data": {
      "image/png": "[encoded data removed]",
      "text/plain": [
       "<matplotlib.figure.Figure at 0x1100778d0>"
      ]
     },
     "metadata": {},
     "output_type": "display_data"
    }
   ],
   "source": [
    "% matplotlib inline\n",
    "from simtk import unit\n",
    "import numpy as np\n",
    "from pylab import *\n",
    "\n",
    "# Input values we're considering\n",
    "hydrogen_rminhalf = 0.3*unit.angstrom\n",
    "hydrogen_epsilon = 0.0157*unit.kilocalorie_per_mole #Start with what HX had \n",
    "bondlength=0.96*unit.angstroms\n",
    "oxygen_rminhalf = 1.7210*unit.angstroms\n",
    "\n",
    "# Figure out distance from oxygen sigma to hydrogen\n",
    "oxygen_sigma = oxygen_rminhalf/(2**(1/6))\n",
    "print(oxygen_sigma)\n",
    "# Compute the distance from hydrogen to oxygen sigma/oxygen rmin_half\n",
    "# H and O are separated by bondlength, so we offset the distances by that amount\n",
    "sigma_to_h = oxygen_sigma - bondlength\n",
    "rminhalf_to_h = oxygen_rminhalf - bondlength\n",
    "print(sigma_to_h, rminhalf_to_h)\n",
    "\n",
    "# Generate a grid of rvalues, starting a bit before the oxygen outer edge\n",
    "rvals = np.arange(0.35*rminhalf_to_h/unit.angstroms, 3.0, 1e-6)*unit.angstroms\n",
    "\n",
    "\n",
    "# Define function to compute interaction energy (in this case between two identical particles, otherwise we'd be using combination rules)\n",
    "def energy(r, r0, epsilon):\n",
    "    e = 4*epsilon*(1/4*(r0/r)**12 - 1/2*(r0/r)**6)\n",
    "    return e\n",
    "\n",
    "# Compute energy\n",
    "en = energy( rvals, hydrogen_rminhalf, hydrogen_epsilon)\n",
    "\n",
    "# Graph\n",
    "plot(rvals, en)\n",
    "\n",
    "# Draw vertical line on graph where oxygen outer \"edge\" lies, measured in terms of sigma and rminhalf\n",
    "# The oxygen lies some distance away from the \n",
    "xvals_sigma = np.array([sigma_to_h/unit.angstrom, sigma_to_h/unit.angstrom])*unit.angstrom\n",
    "yvals = np.array([-2e-3, 1e-3])*unit.kilocalorie_per_mole\n",
    "plot( xvals_sigma, yvals, 'r-')\n",
    "xvals_sigma = np.array([rminhalf_to_h/unit.angstrom, rminhalf_to_h/unit.angstrom])*unit.angstrom\n",
    "plot( xvals_sigma, yvals, 'g-')\n",
    "\n",
    "#Draw horizontal line at some fraction of kB*T for perspective\n",
    "fraction = 0.01 # 1% of kB T\n",
    "yvals = -np.array([fraction, fraction])*unit.constants.BOLTZMANN_CONSTANT_kB*300*unit.kelvin* unit.constants.AVOGADRO_CONSTANT_NA/unit.kilocalorie_per_mole\n",
    "xvals = np.array([0.35*rminhalf_to_h/unit.angstroms, 3.0])*unit.angstroms\n",
    "plot( xvals, yvals, 'y-')\n",
    "\n",
    "legend( [r'$U(r)$', r'oxygen $\\sigma$', r'oxygen $r_{min}/2$', r'%.3f $k_B T$' % fraction])\n",
    "\n",
    "#Do axis labels\n",
    "xlabel(r'separation from hydrogen ($\\AA$)')\n",
    "ylabel('Energy (kcal/mol)')"
   ]
  },
  {
   "cell_type": "markdown",
   "metadata": {},
   "source": [
    "## Analyis of the above\n",
    "\n",
    "It seems that if we set a fairly restrictive tolerance on LJ interactions -- that we want LJ interactions to be less than 0.01 $k_B T$ by the time we reach the outside edge of the connected oxygen (measured by either $r_{min}/2$ or $\\sigma$) we are still very much on safe ground in either case, as indicated by the yellow line (the tolerance) relative to the blue line at the red and green tick marks in the above figure.\n",
    "\n",
    "However, the curve above is for hydrogen-hydrogen interactions only. Interactions between these hydrogens and other, non-hydrogen atoms will be relatively stronger, with well depths given by the combination rule $\\epsilon_{ij} = \\sqrt{ \\epsilon_i \\epsilon_j }$. Let's take a quick look and see what some of the largest \\epsilon values are for `smirnoff99Frosst` and see how the situation above would change in that case. \n",
    "\n",
    "It looks like the largest is for cesium (ions) where we have `<Atom smirks=\"[#55+1:1]\" epsilon=\"0.4065394\" id=\"n32\" rmin_half=\"1.976\"/>`, so $\\epsilon = 0.4065394$ kcal/mol; iodine is similar with a value of $0.4$ kcal/mol.\n",
    "\n",
    "So, let's repeat the above analysis but where we graph the potential for a combined interaction of $\\epsilon_{ij} = \\sqrt{0.4\\times0.0157} = 0.08$ kcal/mol"
   ]
  },
  {
   "cell_type": "code",
   "execution_count": 17,
   "metadata": {},
   "outputs": [
    {
     "name": "stdout",
     "output_type": "stream",
     "text": [
      "1.5332366939195239 A\n",
      "0.5732366939195239 A 0.7610000000000001 A\n"
     ]
    },
    {
     "data": {
      "text/plain": [
       "Text(0,0.5,'Energy (kcal/mol)')"
      ]
     },
     "execution_count": 17,
     "metadata": {},
     "output_type": "execute_result"
    },
    {
     "data": {
      "image/png": "[encoded data removed]",
      "text/plain": [
       "<matplotlib.figure.Figure at 0x10fc18ac8>"
      ]
     },
     "metadata": {},
     "output_type": "display_data"
    }
   ],
   "source": [
    "# Input values we're considering\n",
    "hydrogen_rminhalf = 0.3*unit.angstrom\n",
    "hydrogen_epsilon = 0.08*unit.kilocalorie_per_mole #Combined interaction parameter for hydrogen and iodine\n",
    "bondlength=0.96*unit.angstroms\n",
    "oxygen_rminhalf = 1.7210*unit.angstroms\n",
    "\n",
    "# Figure out distance from oxygen sigma to hydrogen\n",
    "oxygen_sigma = oxygen_rminhalf/(2**(1/6))\n",
    "print(oxygen_sigma)\n",
    "# Compute the distance from hydrogen to oxygen sigma/oxygen rmin_half\n",
    "# H and O are separated by bondlength, so we offset the distances by that amount\n",
    "sigma_to_h = oxygen_sigma - bondlength\n",
    "rminhalf_to_h = oxygen_rminhalf - bondlength\n",
    "print(sigma_to_h, rminhalf_to_h)\n",
    "\n",
    "# Generate a grid of rvalues, starting a bit before the oxygen outer edge\n",
    "rvals = np.arange(0.35*rminhalf_to_h/unit.angstroms, 3.0, 1e-6)*unit.angstroms\n",
    "\n",
    "\n",
    "# Define function to compute interaction energy (in this case between two identical particles, otherwise we'd be using combination rules)\n",
    "def energy(r, r0, epsilon):\n",
    "    e = 4*epsilon*(1/4*(r0/r)**12 - 1/2*(r0/r)**6)\n",
    "    return e\n",
    "\n",
    "# Compute energy\n",
    "en = energy( rvals, hydrogen_rminhalf, hydrogen_epsilon)\n",
    "\n",
    "# Graph\n",
    "plot(rvals, en)\n",
    "\n",
    "# Draw vertical line on graph where oxygen outer \"edge\" lies, measured in terms of sigma and rminhalf\n",
    "# The oxygen lies some distance away from the \n",
    "xvals_sigma = np.array([sigma_to_h/unit.angstrom, sigma_to_h/unit.angstrom])*unit.angstrom\n",
    "yvals = np.array([-5e-3, 1e-3])*unit.kilocalorie_per_mole\n",
    "plot( xvals_sigma, yvals, 'r-')\n",
    "xvals_sigma = np.array([rminhalf_to_h/unit.angstrom, rminhalf_to_h/unit.angstrom])*unit.angstrom\n",
    "plot( xvals_sigma, yvals, 'g-')\n",
    "\n",
    "#Draw horizontal line at some fraction of kB*T for perspective\n",
    "fraction = 0.01 # 1% of kB T\n",
    "yvals = -np.array([fraction, fraction])*unit.constants.BOLTZMANN_CONSTANT_kB*300*unit.kelvin* unit.constants.AVOGADRO_CONSTANT_NA/unit.kilocalorie_per_mole\n",
    "xvals = np.array([0.35*rminhalf_to_h/unit.angstroms, 3.0])*unit.angstroms\n",
    "plot( xvals, yvals, 'y-')\n",
    "\n",
    "legend( [r'$U(r)$', r'oxygen $\\sigma$', r'oxygen $r_{min}/2$', r'%.3f $k_B T$' % fraction])\n",
    "\n",
    "#Do axis labels\n",
    "xlabel(r'separation from hydrogen ($\\AA$)')\n",
    "ylabel('Energy (kcal/mol)')"
   ]
  },
  {
   "cell_type": "code",
   "execution_count": 18,
   "metadata": {},
   "outputs": [
    {
     "name": "stdout",
     "output_type": "stream",
     "text": [
      "306887\n",
      "Energy at sigma: -0.00325355156761 kcal/mol\n",
      "2494.341741366065 J/mol\n",
      "That's 0.546 percent of kB T\n"
     ]
    }
   ],
   "source": [
    "# Let's pull the exact value at the red tick mark and compare to 0.01 kBT\n",
    "threshold = np.where(rvals>sigma_to_h)\n",
    "first = threshold[0][0]\n",
    "print(first)\n",
    "print(\"Energy at sigma:\", en[first])\n",
    "kBT = unit.constants.BOLTZMANN_CONSTANT_kB*300*unit.kelvin* unit.constants.AVOGADRO_CONSTANT_NA \n",
    "print(kBT)\n",
    "print(\"That's %.3f percent of kB T\" % (np.abs(en[first]/kBT)*100))"
   ]
  },
  {
   "cell_type": "markdown",
   "metadata": {},
   "source": [
    "## Further analysis\n",
    "\n",
    "That certainly seems to be a reasonable number, but the value for the polar hydrogen here is pretty arbitrary; currently we've obtained it by taking the well depth and radius for the amide nitrogen (which is significant) and arbitrarily reducing the radius to make it somewhat less significant, but we have just adopted the existing well depth. There is no good justification for doing this; I'd rather have a value which is obtained from some actual analysis.\n",
    "\n",
    "Why don't we instead do this: Take the strongest interaction (as in the analysis just done) and make it equal to 0.1% of $K_bT$ at the smaller radius -- in other words, rather than being content with the 0.55% we just saw, let's make it even smaller and use that value. What value does that equate to? It means we need to make the $\\epsilon$ for hydrogen smaller by some factor so that the final $\\epsilon$, $\\sqrt{ \\epsilon_i \\epsilon_j }$ is smaller by a factor of 5.46:"
   ]
  },
  {
   "cell_type": "code",
   "execution_count": 19,
   "metadata": {},
   "outputs": [
    {
     "name": "stdout",
     "output_type": "stream",
     "text": [
      "5.4574958728\n",
      "Potential new epsilon 0.000527124036877 kcal/mol\n"
     ]
    }
   ],
   "source": [
    "#Find by what factor total epsilon needs to be smaller\n",
    "factor = np.abs(en[first]/kBT)/0.001\n",
    "print(factor)\n",
    "\n",
    "# Find by what factor epsilon needs to be smaller\n",
    "epsilon_factor = factor**2\n",
    "\n",
    "# Compute new epsilon\n",
    "hydrogen_new_epsilon = 0.0157*unit.kilocalorie_per_mole/epsilon_factor\n",
    "print(\"Potential new epsilon\", hydrogen_new_epsilon)"
   ]
  },
  {
   "cell_type": "markdown",
   "metadata": {},
   "source": [
    "### Check that we've got this right"
   ]
  },
  {
   "cell_type": "code",
   "execution_count": 20,
   "metadata": {},
   "outputs": [
    {
     "name": "stdout",
     "output_type": "stream",
     "text": [
      "Energy at sigma: -0.000590546518421 kcal/mol\n",
      "2494.341741366065 J/mol\n",
      "That's 0.0991 percent of kB T\n",
      "Final proposed hydrogen epsilon: 0.000527124036877 kcal/mol\n"
     ]
    }
   ],
   "source": [
    "# Input values we're considering\n",
    "hydrogen_rminhalf = 0.3*unit.angstrom\n",
    "hydrogen_epsilon = np.sqrt(0.4*hydrogen_new_epsilon/unit.kilocalorie_per_mole)*unit.kilocalorie_per_mole\n",
    "bondlength=0.96*unit.angstroms\n",
    "oxygen_rminhalf = 1.7210*unit.angstroms\n",
    "\n",
    "# Compute energy\n",
    "en = energy( rvals, hydrogen_rminhalf, hydrogen_epsilon)\n",
    "\n",
    "# Check that we've got the results right\n",
    "print(\"Energy at sigma:\", en[first])\n",
    "print(kBT)\n",
    "print(\"That's %.3g percent of kB T\" % (np.abs(en[first]/kBT)*100))\n",
    "\n",
    "# Print final value\n",
    "print(\"Final proposed hydrogen epsilon:\", hydrogen_new_epsilon)"
   ]
  },
  {
   "cell_type": "markdown",
   "metadata": {},
   "source": [
    "### Summary\n",
    "\n",
    "The above analysis suggests a final hydrogen epsilon of $0.000527$ kcal/mol, which will make sure that even the strongest inter-atom interactions are less than 0.1% of $k_BT$ outside of the oxygen atom's radius.\n",
    "\n",
    "### Plan of next actions\n",
    "\n",
    "Discussed further with Chris Bayly and Caitlin Bannan; Chris argues that it should be easy to find a set of parameters which will remove crashes, so the first test should be to apply these parameters to (for example) water just as a test, to ensure that the density is not dramatically perturbed and that the average enthalpy, etc., remains similar. We will not, of course, ultimately use these parameters for water, but that's a good check. Following that, he suggests that we look at  dimer energies as we bring molecules together -- should see that there's a singularity now and that the new parameters remove them. We could look at water dimers, or acetic acid dimers, or water-acetic acid dimer, or ... \n",
    "\n",
    "So plan of attack would be:\n",
    "1) Run density calculation with TIP3P and with TIP3P modified to use these parameters\n",
    "2) Look at dimer energetics with original parameters and modified parameters to verify we see the problem and can remove it\n",
    "3) If both of the above look good, proceed to validation."
   ]
  },
  {
   "cell_type": "markdown",
   "metadata": {},
   "source": [
    "## Load TIP3P water and set up and dump an OpenMM system with normal parameters\n"
   ]
  },
  {
   "cell_type": "code",
   "execution_count": 21,
   "metadata": {
    "collapsed": true
   },
   "outputs": [],
   "source": [
    "from simtk.openmm.app import *\n",
    "from simtk.openmm import *\n",
    "from simtk import unit\n",
    "from sys import stdout\n",
    "import numpy as np\n",
    "from mdtraj.formats.gro import load_gro\n",
    "import parmed\n",
    "from copy import deepcopy\n",
    "\n",
    "# Prep the original system with TIP3P\n",
    "# Load PDB\n",
    "pdb = PDBFile('spc216.pdb')\n",
    "# Load normal OpenMM water forcefield\n",
    "forcefield = ForceField( 'tip3p.xml')\n",
    "# get periodic box vectors\n",
    "gro = load_gro('spc216.gro')\n",
    "pdb.topology.setPeriodicBoxVectors(gro.openmm_boxes(0))\n",
    "\n",
    "system = forcefield.createSystem(pdb.topology, nonbondedMethod=PME,\n",
    "        nonbondedCutoff=0.6*unit.nanometer, constraints=HBonds, rigidWater = True)\n",
    "\n",
    "# Dump XML\n",
    "system_serialized = openmm.XmlSerializer.serialize(system)\n",
    "file = open('tip3p_216.xml', 'w')\n",
    "file.write(system_serialized)\n",
    "file.close()"
   ]
  },
  {
   "cell_type": "markdown",
   "metadata": {},
   "source": [
    "## Create a new system and modify TIP3P water to use new parameters"
   ]
  },
  {
   "cell_type": "code",
   "execution_count": 22,
   "metadata": {
    "collapsed": true
   },
   "outputs": [],
   "source": [
    "# Generate new system\n",
    "system2 = forcefield.createSystem(pdb.topology, nonbondedMethod=PME,\n",
    "        nonbondedCutoff=0.6*unit.nanometer, constraints=HBonds, rigidWater = True)\n",
    "\n",
    "# Final parameters to use for protons\n",
    "hydrogen_epsilon = 0.000527*unit.kilocalorie_per_mole\n",
    "hydrogen_rminhalf = 0.3*unit.angstrom\n",
    "# Convert rminhalf to sigma\n",
    "hydrogen_sigma = hydrogen_rminhalf/(2**(1/6))\n",
    "\n",
    "\n",
    "\n",
    "# Retrieve nonbondedforce\n",
    "for force in system2.getForces():\n",
    "    if isinstance(force, openmm.NonbondedForce):\n",
    "        break\n",
    "\n",
    "# Update nonbonded force for protons\n",
    "for residue in pdb.topology.residues():\n",
    "    \n",
    "    oxygen_index = None\n",
    "    hydrogen_indices = []\n",
    "    for atom in residue.atoms():\n",
    "        if atom.element.name=='oxygen':\n",
    "            continue\n",
    "        elif atom.element.name=='hydrogen':\n",
    "            # Update parameters for force on this atom\n",
    "            chg, sigma, epsilon = force.getParticleParameters( atom.index )\n",
    "            # Update\n",
    "            force.setParticleParameters(atom.index, chg, hydrogen_sigma, hydrogen_epsilon)\n",
    "            \n",
    "            \n",
    "# Dump XML\n",
    "system_serialized = openmm.XmlSerializer.serialize(system2)\n",
    "file = open('tip3p_modified_216.xml', 'w')\n",
    "file.write(system_serialized)\n",
    "file.close()"
   ]
  },
  {
   "cell_type": "markdown",
   "metadata": {},
   "source": [
    "## Now exit this notebook and run density calculation from XML in this directory\n",
    "\n",
    "I ran the `density.py` script for TIP3P and modified TIP3P water; results went into the `results` directory. Here we'll try and do a bit of analysis of them/some quick plots of the density convergence.\n",
    "\n",
    "## Analyze runs of TIP3P water -- density results, etc.\n"
   ]
  },
  {
   "cell_type": "code",
   "execution_count": 1,
   "metadata": {
    "collapsed": true
   },
   "outputs": [],
   "source": [
    "import numpy\n",
    "import pandas as pd\n",
    "from pymbar import timeseries as ts\n",
    "#tip3p = numpy.loadtxt('results/prod/tip3p_216_prod.csv', delimiter=\",\")\n",
    "#tip3p_new = numpy.loadtxt('results/prod/tip3p_modified_216_prod.csv', delimiter=\",\")\n",
    "tip3p = pd.read_csv('results/prod/tip3p_216_prod.csv', names=[\"step\", \"U\", \"Temperature\", \"Density\"], skiprows=1)\n",
    "tip3p_new = pd.read_csv('results/prod/tip3p_modified_216_prod.csv', names=[\"step\", \"U\", \"Temperature\", \"Density\"], skiprows=1)"
   ]
  },
  {
   "cell_type": "code",
   "execution_count": 2,
   "metadata": {},
   "outputs": [
    {
     "data": {
      "image/png": "[encoded data removed]",
      "text/plain": [
       "<matplotlib.figure.Figure at 0x118148ac8>"
      ]
     },
     "metadata": {},
     "output_type": "display_data"
    },
    {
     "data": {
      "image/png": "[encoded data removed]",
      "text/plain": [
       "<matplotlib.figure.Figure at 0x1186ca748>"
      ]
     },
     "metadata": {},
     "output_type": "display_data"
    }
   ],
   "source": [
    "%matplotlib inline\n",
    "from pylab import *\n",
    "\n",
    "# Plot instantaneous density for original and new\n",
    "plot( np.array(tip3p.step), np.array(tip3p.Density), 'b-')\n",
    "plot( np.array(tip3p_new.step), np.array(tip3p_new.Density), 'r-')\n",
    "title('Instantaneous density')\n",
    "\n",
    "# Clip out unequilibrated region\n",
    "density_ts = np.array(tip3p.Density)\n",
    "[t0, g, Neff] = ts.detectEquilibration(density_ts, nskip=1000)\n",
    "density_ts = density_ts[t0:]\n",
    "stepnrs = np.array(tip3p.step[t0:])\n",
    "density_ts_new = np.array(tip3p_new.Density)\n",
    "[t0, g, Neff] = ts.detectEquilibration(density_ts_new, nskip=1000)\n",
    "density_ts_new = density_ts_new[t0:]\n",
    "stepnrs_new = np.array(tip3p_new.step[t0:])\n",
    "\n",
    "# Compute mean density up to the present at each time, along with associated uncertainty\n",
    "mean_density = [ density_ts[0:i].mean() for i in range(2, len(density_ts)) ]\n",
    "mean_density_stderr = [ ]\n",
    "for i in range(2,len(density_ts)):\n",
    "    g = ts.statisticalInefficiency( density_ts[0:i])\n",
    "    stderr = density_ts[0:i].std()/sqrt(i/g)\n",
    "    mean_density_stderr.append(stderr)\n",
    "mean_density_new = [ density_ts_new[0:i].mean() for i in range(2, len(density_ts_new)) ]\n",
    "mean_density_new_stderr = [ ]\n",
    "for i in range(2,len(density_ts_new)):\n",
    "    g = ts.statisticalInefficiency( density_ts_new[0:i])\n",
    "    stderr = density_ts_new[0:i].std()/sqrt(i/g)\n",
    "    mean_density_new_stderr.append(stderr)\n",
    "\n",
    "figure()\n",
    "#plot(stepnrs[2:], mean_density )\n",
    "errorbar(stepnrs[20:], mean_density[18:], yerr=mean_density_stderr[18:], fmt='b-' )\n",
    "errorbar(stepnrs_new[20:], mean_density_new[18:], yerr= mean_density_new_stderr[18:], fmt='r-')\n",
    "show()"
   ]
  },
  {
   "cell_type": "code",
   "execution_count": 3,
   "metadata": {},
   "outputs": [
    {
     "name": "stdout",
     "output_type": "stream",
     "text": [
      "Mean density of normal TIP3P: 0.9841+/-0.0002\n",
      "Mean density of modified TIP3P: 0.9866+/-0.0002\n"
     ]
    }
   ],
   "source": [
    "# Just do statistics and print, also\n",
    "[t0, g, Neff] = ts.detectEquilibration(density_ts, nskip=1000)\n",
    "density_mean_stderr = density_ts.std() / np.sqrt(Neff)\n",
    "print(\"Mean density of normal TIP3P: %.4g+/-%.3g\" % (density_ts.mean(), density_mean_stderr))\n",
    "[t0, g, Neff] = ts.detectEquilibration(density_ts_new, nskip=1000)\n",
    "density_mean_new_stderr = density_ts_new.std() / np.sqrt(Neff)\n",
    "print(\"Mean density of modified TIP3P: %.4g+/-%.3g\" % (density_ts_new.mean(), density_mean_new_stderr))"
   ]
  },
  {
   "cell_type": "markdown",
   "metadata": {},
   "source": [
    "### Conclusion at this point: \n",
    "This parameter modification is too substantial; the density is significantly perturbed; it's more dense by about 0.2%. It SHOULD be more dense (because we're adding a lot of new LJ sites), but this is probably too much so. Though, in the end we will only do this for small molecules, not water, so it will be far fewer sites. (A better test would probably be the density of, say, methanol.)\n",
    "\n",
    "#### Let's try an order of magnitude lower in epsilon and see how things turn out"
   ]
  },
  {
   "cell_type": "code",
   "execution_count": 4,
   "metadata": {},
   "outputs": [
    {
     "ename": "NameError",
     "evalue": "name 'forcefield' is not defined",
     "output_type": "error",
     "traceback": [
      "\u001b[0;31m---------------------------------------------------------------------------\u001b[0m",
      "\u001b[0;31mNameError\u001b[0m                                 Traceback (most recent call last)",
      "\u001b[0;32m<ipython-input-4-0c03731c02ad>\u001b[0m in \u001b[0;36m<module>\u001b[0;34m()\u001b[0m\n\u001b[1;32m      1\u001b[0m \u001b[0;31m# Generate new system\u001b[0m\u001b[0;34m\u001b[0m\u001b[0;34m\u001b[0m\u001b[0m\n\u001b[0;32m----> 2\u001b[0;31m system3 = forcefield.createSystem(pdb.topology, nonbondedMethod=PME,\n\u001b[0m\u001b[1;32m      3\u001b[0m         nonbondedCutoff=0.6*unit.nanometer, constraints=HBonds, rigidWater = True)\n\u001b[1;32m      4\u001b[0m \u001b[0;34m\u001b[0m\u001b[0m\n\u001b[1;32m      5\u001b[0m \u001b[0;31m# Final parameters to use for protons\u001b[0m\u001b[0;34m\u001b[0m\u001b[0;34m\u001b[0m\u001b[0m\n",
      "\u001b[0;31mNameError\u001b[0m: name 'forcefield' is not defined"
     ]
    }
   ],
   "source": [
    "# Generate new system\n",
    "system3 = forcefield.createSystem(pdb.topology, nonbondedMethod=PME,\n",
    "        nonbondedCutoff=0.6*unit.nanometer, constraints=HBonds, rigidWater = True)\n",
    "\n",
    "# Final parameters to use for protons\n",
    "hydrogen_epsilon = 0.0000527*unit.kilocalorie_per_mole #Additional order of magnitude lower\n",
    "hydrogen_rminhalf = 0.3*unit.angstrom\n",
    "# Convert rminhalf to sigma\n",
    "hydrogen_sigma = hydrogen_rminhalf/(2**(1/6))\n",
    "\n",
    "\n",
    "\n",
    "# Retrieve nonbondedforce\n",
    "for force in system3.getForces():\n",
    "    if isinstance(force, openmm.NonbondedForce):\n",
    "        break\n",
    "\n",
    "# Update nonbonded force for protons\n",
    "for residue in pdb.topology.residues():\n",
    "    \n",
    "    oxygen_index = None\n",
    "    hydrogen_indices = []\n",
    "    for atom in residue.atoms():\n",
    "        if atom.element.name=='oxygen':\n",
    "            continue\n",
    "        elif atom.element.name=='hydrogen':\n",
    "            # Update parameters for force on this atom\n",
    "            chg, sigma, epsilon = force.getParticleParameters( atom.index )\n",
    "            # Update\n",
    "            force.setParticleParameters(atom.index, chg, hydrogen_sigma, hydrogen_epsilon)\n",
    "            \n",
    "            \n",
    "# Dump XML\n",
    "system_serialized = openmm.XmlSerializer.serialize(system3)\n",
    "file = open('tip3p_modified2_216.xml', 'w')\n",
    "file.write(system_serialized)\n",
    "file.close()"
   ]
  },
  {
   "cell_type": "code",
   "execution_count": 8,
   "metadata": {},
   "outputs": [
    {
     "data": {
      "image/png": "[encoded data removed]",
      "text/plain": [
       "<matplotlib.figure.Figure at 0x11f0eb588>"
      ]
     },
     "metadata": {},
     "output_type": "display_data"
    },
    {
     "data": {
      "image/png": "[encoded data removed]",
      "text/plain": [
       "<matplotlib.figure.Figure at 0x119f50ba8>"
      ]
     },
     "metadata": {},
     "output_type": "display_data"
    }
   ],
   "source": [
    "tip3p_new2 = pd.read_csv('results/prod/tip3p_modified2_216_prod.csv', names=[\"step\", \"U\", \"Temperature\", \"Density\"], skiprows=1)\n",
    "\n",
    "%matplotlib inline\n",
    "from pylab import *\n",
    "\n",
    "# Plot instantaneous density for original and new\n",
    "plot( np.array(tip3p.step), np.array(tip3p.Density), 'b-')\n",
    "plot( np.array(tip3p_new2.step), np.array(tip3p_new2.Density), 'r-')\n",
    "title('Instantaneous density')\n",
    "\n",
    "# Clip out unequilibrated region\n",
    "density_ts = np.array(tip3p.Density)\n",
    "[t0, g, Neff] = ts.detectEquilibration(density_ts, nskip=1000)\n",
    "density_ts = density_ts[t0:]\n",
    "stepnrs = np.array(tip3p.step[t0:])\n",
    "density_ts_new2 = np.array(tip3p_new2.Density)\n",
    "[t0, g, Neff] = ts.detectEquilibration(density_ts_new2, nskip=1000)\n",
    "density_ts_new2 = density_ts_new2[t0:]\n",
    "stepnrs_new2 = np.array(tip3p_new2.step[t0:])\n",
    "\n",
    "# Compute mean density up to the present at each time, along with associated uncertainty\n",
    "mean_density = [ density_ts[0:i].mean() for i in range(2, len(density_ts)) ]\n",
    "mean_density_stderr = [ ]\n",
    "for i in range(2,len(density_ts)):\n",
    "    g = ts.statisticalInefficiency( density_ts[0:i])\n",
    "    stderr = density_ts[0:i].std()/sqrt(i/g)\n",
    "    mean_density_stderr.append(stderr)\n",
    "mean_density_new2 = [ density_ts_new2[0:i].mean() for i in range(2, len(density_ts_new2)) ]\n",
    "mean_density_new2_stderr = [ ]\n",
    "for i in range(2,len(density_ts_new2)):\n",
    "    g = ts.statisticalInefficiency( density_ts_new2[0:i])\n",
    "    stderr = density_ts_new2[0:i].std()/sqrt(i/g)\n",
    "    mean_density_new2_stderr.append(stderr)\n",
    "\n",
    "figure()\n",
    "#plot(stepnrs[2:], mean_density )\n",
    "errorbar(stepnrs[20:], mean_density[18:], yerr=mean_density_stderr[18:], fmt='b-' )\n",
    "errorbar(stepnrs_new2[20:], mean_density_new2[18:], yerr= mean_density_new2_stderr[18:], fmt='r-')\n",
    "show()"
   ]
  },
  {
   "cell_type": "code",
   "execution_count": 10,
   "metadata": {},
   "outputs": [
    {
     "name": "stdout",
     "output_type": "stream",
     "text": [
      "Mean density of normal TIP3P: 0.9841+/-0.0002\n",
      "Mean density of modified TIP3P: 0.9845+/-0.0002\n"
     ]
    }
   ],
   "source": [
    "# Just do statistics and print, also\n",
    "[t0, g, Neff] = ts.detectEquilibration(density_ts, nskip=1000)\n",
    "density_mean_stderr = density_ts.std() / np.sqrt(Neff)\n",
    "print(\"Mean density of normal TIP3P: %.4g+/-%.3g\" % (density_ts.mean(), density_mean_stderr))\n",
    "[t0, g, Neff] = ts.detectEquilibration(density_ts_new2, nskip=1000)\n",
    "density_mean_new2_stderr = density_ts_new2.std() / np.sqrt(Neff)\n",
    "print(\"Mean density of modified TIP3P: %.4g+/-%.3g\" % (density_ts_new2.mean(), density_mean_new2_stderr))"
   ]
  },
  {
   "cell_type": "markdown",
   "metadata": {},
   "source": [
    "What difference is acceptable? Folowing [Shirts *et al.*](dx.doi.org/10.1021/jp0735987) we can estimate the difference in pressure corresponding to a specified difference in density from the isothermal compressibility of water, which we can take as $\\beta = 4.5\\times 10^{-5} atm^{-1}$. The resulting pressure difference is $\\delta P = -(4.5\\times 10^{-5} atm^{-1})^{-1} \\times \\frac{\\delta \\rho}{\\rho}$; here at a tolerance of $2\\times 10^{-4}$ g/mL, $\\frac{\\delta {\\rho}}{\\rho} = 2\\times 10^{-4}$ and we obtain a value of $4.4$ atm, indicating a density difference at even this level corresponds to a rather significant difference in pressure.\n",
    "To get this down even further we might need to convergence density calculations even more tightly and *perhaps* take an even smaller value for $\\epsilon$.\n",
    "\n",
    "However, first, it is probably worth checking that we can reproduce the crashes and that this epsilon value alleviates it."
   ]
  },
  {
   "cell_type": "markdown",
   "metadata": {},
   "source": [
    "**Dropping out to separate notebook to assess dimer energy problem**\n",
    "\n",
    "Relevant notebook is `Dimer energetics.ipynb`.\n",
    "This value DOES fix the energetic problem.\n",
    "\n",
    "Since we don't actually plan on ever applying these parameters to TIP3P water, I think we ought to just go straight to density validation at this point and see what happens with these parameters when applied to densities."
   ]
  },
  {
   "cell_type": "code",
   "execution_count": null,
   "metadata": {
    "collapsed": true
   },
   "outputs": [],
   "source": []
  }
 ],
 "metadata": {
  "kernelspec": {
   "display_name": "Python 3",
   "language": "python",
   "name": "python3"
  },
  "language_info": {
   "codemirror_mode": {
    "name": "ipython",
    "version": 3
   },
   "file_extension": ".py",
   "mimetype": "text/x-python",
   "name": "python",
   "nbconvert_exporter": "python",
   "pygments_lexer": "ipython3",
   "version": "3.6.2"
  },
  "toc": {
   "nav_menu": {},
   "number_sections": true,
   "sideBar": true,
   "skip_h1_title": false,
   "toc_cell": false,
   "toc_position": {},
   "toc_section_display": "block",
   "toc_window_display": false
  }
 },
 "nbformat": 4,
 "nbformat_minor": 2
}
